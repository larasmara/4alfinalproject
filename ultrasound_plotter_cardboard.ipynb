{
 "cells": [
  {
   "cell_type": "code",
   "execution_count": 20,
   "id": "1b3f5f78-1361-428b-819b-4adb55bf9908",
   "metadata": {
    "id": "1b3f5f78-1361-428b-819b-4adb55bf9908",
    "outputId": "947066b5-f8aa-4518-f80a-136084dea2bc"
   },
   "outputs": [],
   "source": [
    "start_index_cardboard = [40, 15, 60]\n",
    "stop_index_cardboard = [110, 95, 145]\n",
    "time_windows_cardboard = []\n",
    "dist_windows_cardboard = []\n",
    "accel_windows_cardboard = []\n",
    "\n",
    "## CARDBOARD -- Windowed distance ##\n",
    "plots = ['one', 'two', 'three']\n",
    "fig, axes = plt.subplot_mosaic([['one', 'two'],['three', 'three']], figsize=(12, 8))\n",
    "for plot_index in plots:\n",
    "    read_in_array = np.loadtxt(attempts[plots.index(plot_index) + 3], delimiter=',')\n",
    "\n",
    "    # Extract time, position, x-axis accelerometer output\n",
    "    time_millis = read_in_array[:,0]\n",
    "    dist_cm = read_in_array[:,1]\n",
    "    accel_x_output = read_in_array[:,2]\n",
    "    accel_x_output = output_to_accel_x(coeff_x, accel_x_output)\n",
    "    accel_x_output = accel_x_output[start_index_cardboard[plots.index(plot_index)]:stop_index_cardboard[plots.index(plot_index)]]\n",
    "    accel_windows_cardboard.append(accel_x_output)\n",
    "\n",
    "    # Time from ms to s, distance from cm to m\n",
    "    time_s = time_millis/1000\n",
    "    time_s = time_s - time_s[0]\n",
    "    dist_m = dist_cm/100\n",
    "\n",
    "    time_window = time_s[start_index_cardboard[plots.index(plot_index)]:stop_index_cardboard[plots.index(plot_index)]]\n",
    "    dist_window = dist_m[start_index_cardboard[plots.index(plot_index)]:stop_index_cardboard[plots.index(plot_index)]]\n",
    "    time_windows_cardboard.append(time_window)\n",
    "    dist_windows_cardboard.append(dist_window)\n",
    "\n",
    "    # Replace arange statement with 'time_s - time_s[0]' for dist. v time\n",
    "    axes[plot_index].plot(time_window, dist_window, label= \"Ultrasound data\", color=\"b\")\n",
    "    axes[plot_index].set_title(\"Windowed Cardboard Distance vs. Index Attempt {attempt}\".format(attempt = plots.index(plot_index) + 1))\n",
    "    axes[plot_index].set_xlabel(\"Time (s)\")\n",
    "    axes[plot_index].set_ylabel(\"Distance (m)\")\n",
    "\n",
    "    axes[plot_index].grid()\n",
    "\n",
    "plt.legend()\n",
    "plt.tight_layout()\n",
    "plt.show()"
   ]
  },
  {
   "cell_type": "code",
   "execution_count": 16,
   "metadata": {},
   "outputs": [
    {
     "name": "stdout",
     "output_type": "stream",
     "text": [
      "trial 0:\n",
      "\tinital velocity: -0.6487742068005594 m/s\n",
      "\tfinal velocity: 0.007811059907832229 m/s\n",
      "\tmomentum loss: -98.79602798231568 %\n",
      "\timpulse: 0.3210701954204035 N*s\n",
      "trial 1:\n",
      "\tinital velocity: -0.65457150363841 m/s\n",
      "\tfinal velocity: 0.026333567909922605 m/s\n",
      "\tmomentum loss: -95.9769761189498 %\n",
      "\timpulse: 0.33296257998713463 N*s\n",
      "trial 2:\n",
      "\tinital velocity: -0.8009432800520627 m/s\n",
      "\tfinal velocity: 0.0045335893342543475 m/s\n",
      "\tmomentum loss: -99.43396874071287 %\n",
      "\timpulse: 0.393878189129909 N*s\n"
     ]
    }
   ],
   "source": [
    "# carboard - momentum loss\n",
    "def momentum(mass, velocity):\n",
    "  return mass * velocity\n",
    "\n",
    "m = 489 / 1000 # kg\n",
    "\n",
    "p_pre_collision = []\n",
    "p_post_collision = []\n",
    "momentum_loss = []\n",
    "impulse = []\n",
    "\n",
    "for i in range(3):\n",
    "  p_pre_collision.append(momentum(m, coeff_linear_pre_collision[i][0]))\n",
    "  p_post_collision.append(momentum(m, coeff_linear_post_collision[i][0]))\n",
    "  momentum_loss.append((abs(p_post_collision[i]) - abs(p_pre_collision[i])) * (100 / abs(p_pre_collision[i])))\n",
    "  impulse.append(p_post_collision[i] - p_pre_collision[i])\n",
    "\n",
    "  print(\"trial {0}:\\n\\tinital velocity: {1} m/s\\n\\tfinal velocity: {2} m/s\\n\\tmomentum loss: {3} %\\n\\timpulse: {4} N*s\".format(i, coeff_linear_pre_collision[i][0], coeff_linear_post_collision[i][0], momentum_loss[i], impulse[i]))"
   ]
  }
 ],
 "metadata": {
  "colab": {
   "provenance": []
  },
  "kernelspec": {
   "display_name": "Python 3",
   "language": "python",
   "name": "python3"
  },
  "language_info": {
   "codemirror_mode": {
    "name": "ipython",
    "version": 3
   },
   "file_extension": ".py",
   "mimetype": "text/x-python",
   "name": "python",
   "nbconvert_exporter": "python",
   "pygments_lexer": "ipython3",
   "version": "3.12.0"
  }
 },
 "nbformat": 4,
 "nbformat_minor": 5
}
