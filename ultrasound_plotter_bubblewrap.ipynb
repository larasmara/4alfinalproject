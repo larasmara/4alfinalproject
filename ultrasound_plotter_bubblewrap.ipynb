{
 "cells": [
  {
   "cell_type": "code",
   "execution_count": 23,
   "id": "328561f7",
   "metadata": {},
   "outputs": [
    {
     "name": "stdout",
     "output_type": "stream",
     "text": [
      "trial 0:\n",
      "\tinital velocity: -0.8936452969162572 m/s\n",
      "\tfinal velocity: 0.3399970659838402 m/s\n",
      "\tmomentum loss: -61.95391312894684 %\n",
      "\timpulse: 0.6032511154581476 N*s\n",
      "trial 1:\n",
      "\tinital velocity: -0.7958976662250188 m/s\n",
      "\tfinal velocity: 0.3036146024565189 m/s\n",
      "\tmomentum loss: -61.852557767058464 %\n",
      "\timpulse: 0.537661499385272 N*s\n",
      "trial 2:\n",
      "\tinital velocity: -0.8457670911516466 m/s\n",
      "\tfinal velocity: 0.3164003548948062 m/s\n",
      "\tmomentum loss: -62.59013170351938 %\n",
      "\timpulse: 0.5682998811167154 N*s\n"
     ]
    }
   ],
   "source": [
    "# bubblewrap - momentum loss\n",
    "def momentum(mass, velocity):\n",
    "  return mass * velocity\n",
    "\n",
    "m = 489 / 1000 # kg\n",
    "\n",
    "p_pre_collision = []\n",
    "p_post_collision = []\n",
    "momentum_loss = []\n",
    "impulse = []\n",
    "\n",
    "for i in range(3):\n",
    "  p_pre_collision.append(momentum(m, coeff_linear_pre_collision[i][0]))\n",
    "  p_post_collision.append(momentum(m, coeff_linear_post_collision[i][0]))\n",
    "  momentum_loss.append((abs(p_post_collision[i]) - abs(p_pre_collision[i])) * (100 / abs(p_pre_collision[i])))\n",
    "  impulse.append(p_post_collision[i] - p_pre_collision[i])\n",
    "\n",
    "  print(\"trial {0}:\\n\\tinital velocity: {1} m/s\\n\\tfinal velocity: {2} m/s\\n\\tmomentum loss: {3} %\\n\\timpulse: {4} N*s\".format(i, coeff_linear_pre_collision[i][0], coeff_linear_post_collision[i][0], momentum_loss[i], impulse[i]))"
   ]
  }
 ],
 "metadata": {
  "colab": {
   "provenance": []
  },
  "kernelspec": {
   "display_name": "Python 3",
   "language": "python",
   "name": "python3"
  },
  "language_info": {
   "codemirror_mode": {
    "name": "ipython",
    "version": 3
   },
   "file_extension": ".py",
   "mimetype": "text/x-python",
   "name": "python",
   "nbconvert_exporter": "python",
   "pygments_lexer": "ipython3",
   "version": "3.12.0"
  }
 },
 "nbformat": 4,
 "nbformat_minor": 5
}
